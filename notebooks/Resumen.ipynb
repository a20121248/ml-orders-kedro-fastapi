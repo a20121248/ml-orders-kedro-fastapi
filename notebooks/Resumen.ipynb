{
 "cells": [
  {
   "cell_type": "markdown",
   "id": "50af48e5",
   "metadata": {},
   "source": [
    "### Importar librerías"
   ]
  },
  {
   "cell_type": "code",
   "execution_count": 7,
   "id": "24c093f4",
   "metadata": {},
   "outputs": [],
   "source": [
    "import requests\n",
    "import time\n",
    "import json"
   ]
  },
  {
   "cell_type": "markdown",
   "id": "0816b7fd",
   "metadata": {},
   "source": [
    "### Llamada a la API"
   ]
  },
  {
   "cell_type": "code",
   "execution_count": 88,
   "id": "978489cd",
   "metadata": {},
   "outputs": [
    {
     "name": "stdout",
     "output_type": "stream",
     "text": [
      "{\n",
      "    \"label\": \"not taken\",\n",
      "    \"prediction\": 0\n",
      "}\n",
      "\n",
      "Time: 40.02 milisegundos.\n"
     ]
    }
   ],
   "source": [
    "data = {\n",
    "    \"to_user_distance\": 2.478101,\n",
    "    \"to_user_elevation\": -72.719360,\n",
    "    \"total_earning\": 4200,\n",
    "    \"hour\": 20,\n",
    "    \"taken_percentage\": 90.714286,\n",
    "}\n",
    "\n",
    "start_time = time.time()\n",
    "r = requests.post(\"http://localhost:8000/predict/\", json = data)\n",
    "json_object = json.loads(r.content)\n",
    "json_formatted_str = json.dumps(json_object, indent=4)\n",
    "print(json_formatted_str+\"\\n\")\n",
    "\n",
    "print(f\"Time: {(time.time()-start_time)*1000:.2f} milisegundos.\")"
   ]
  }
 ],
 "metadata": {
  "kernelspec": {
   "display_name": "Python 3 (ipykernel)",
   "language": "python",
   "name": "python3"
  },
  "language_info": {
   "codemirror_mode": {
    "name": "ipython",
    "version": 3
   },
   "file_extension": ".py",
   "mimetype": "text/x-python",
   "name": "python",
   "nbconvert_exporter": "python",
   "pygments_lexer": "ipython3",
   "version": "3.11.4"
  }
 },
 "nbformat": 4,
 "nbformat_minor": 5
}
